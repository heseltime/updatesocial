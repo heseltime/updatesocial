{
 "cells": [
  {
   "cell_type": "code",
   "execution_count": 1,
   "id": "a5dcb884-58da-4a62-8246-b709bd33c419",
   "metadata": {},
   "outputs": [
    {
     "name": "stdout",
     "output_type": "stream",
     "text": [
      "1\n",
      "Lorem Ipsum\n",
      "Jack Heseltine\n",
      "\n",
      "Microsoft® Word 2016\n",
      "axesWord\n",
      "2024-02-13 10:05:22+01:00\n",
      "2024-02-13 10:06:12+01:00\n"
     ]
    }
   ],
   "source": [
    "from pypdf import PdfReader\n",
    "\n",
    "reader = PdfReader(\"example.pdf\")\n",
    "\n",
    "meta = reader.metadata\n",
    "\n",
    "print(len(reader.pages))\n",
    "\n",
    "# All of the following could be None!\n",
    "print(meta.title)\n",
    "print(meta.author)\n",
    "print(meta.subject)\n",
    "print(meta.creator)\n",
    "print(meta.producer)\n",
    "print(meta.creation_date)\n",
    "print(meta.modification_date)"
   ]
  },
  {
   "cell_type": "code",
   "execution_count": 2,
   "id": "5544d6a4-54d5-4685-a58f-8c2e7ad8acae",
   "metadata": {},
   "outputs": [
    {
     "data": {
      "text/plain": [
       "{'/Author': 'Jack Heseltine',\n",
       " '/CreationDate': \"D:20240213100522+01'00'\",\n",
       " '/Creator': 'Microsoft® Word 2016',\n",
       " '/Keywords': '',\n",
       " '/ModDate': \"D:20240213100612+01'00'\",\n",
       " '/Producer': 'axesWord',\n",
       " '/Subject': '',\n",
       " '/Title': 'Lorem Ipsum'}"
      ]
     },
     "execution_count": 2,
     "metadata": {},
     "output_type": "execute_result"
    }
   ],
   "source": [
    "meta"
   ]
  },
  {
   "cell_type": "code",
   "execution_count": null,
   "id": "3f1485df-0ab2-4d02-9013-ea7f5c5112de",
   "metadata": {},
   "outputs": [],
   "source": []
  }
 ],
 "metadata": {
  "kernelspec": {
   "display_name": "Python 3 (ipykernel)",
   "language": "python",
   "name": "python3"
  },
  "language_info": {
   "codemirror_mode": {
    "name": "ipython",
    "version": 3
   },
   "file_extension": ".py",
   "mimetype": "text/x-python",
   "name": "python",
   "nbconvert_exporter": "python",
   "pygments_lexer": "ipython3",
   "version": "3.12.0"
  }
 },
 "nbformat": 4,
 "nbformat_minor": 5
}
