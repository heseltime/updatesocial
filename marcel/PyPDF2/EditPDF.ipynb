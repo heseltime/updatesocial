{
 "cells": [
  {
   "cell_type": "code",
   "execution_count": null,
   "id": "26d3c9dd-b547-4844-839f-2e4db43544dd",
   "metadata": {},
   "outputs": [],
   "source": [
    "# !pip install PyPDF2==2.0"
   ]
  },
  {
   "cell_type": "code",
   "execution_count": 7,
   "id": "7bd30318-9c2b-449a-b58e-ae0108a13420",
   "metadata": {},
   "outputs": [
    {
     "name": "stdout",
     "output_type": "stream",
     "text": [
      "{'/Author': 'Jack Heseltine', '/Creator': 'Microsoft® Word 2019', '/CreationDate': \"D:20240213093324+01'00'\", '/ModDate': \"D:20240213093324+01'00'\", '/Producer': 'Microsoft® Word 2019'}\n"
     ]
    }
   ],
   "source": [
    "import PyPDF2\n",
    "\n",
    "def read_pdf_metadata(pdf_path):\n",
    "    with open(pdf_path, 'rb') as pdf_file:\n",
    "        pdf_reader = PyPDF2.PdfFileReader(pdf_file)\n",
    "        metadata = pdf_reader.getDocumentInfo()\n",
    "        return metadata\n",
    "\n",
    "pdf_path1 = 'Title-and-Headings-not-perfect.pdf'\n",
    "metadata = read_pdf_metadata(pdf_path)\n",
    "print(metadata)"
   ]
  },
  {
   "cell_type": "code",
   "execution_count": 8,
   "id": "f0b8d3bb-06ea-4623-8c1c-70a98ebb1f46",
   "metadata": {},
   "outputs": [],
   "source": [
    "import PyPDF2\n",
    "\n",
    "def update_pdf_metadata(pdf_path, new_metadata):\n",
    "    with open(pdf_path, 'rb') as pdf_file:\n",
    "        pdf_reader = PyPDF2.PdfFileReader(pdf_file)\n",
    "        \n",
    "        # Create a new PDF writer\n",
    "        pdf_writer = PyPDF2.PdfFileWriter()\n",
    "        \n",
    "        # Copy the pages and metadata to the new PDF\n",
    "        for page_num in range(pdf_reader.numPages):\n",
    "            page = pdf_reader.getPage(page_num)\n",
    "            pdf_writer.addPage(page)\n",
    "        \n",
    "        # Update metadata\n",
    "        for key, value in new_metadata.items():\n",
    "            pdf_writer.addMetadata({key: value})\n",
    "        \n",
    "        # Write the new PDF to a file\n",
    "        with open('new_pdf_with_metadata.pdf', 'wb') as new_pdf_file:\n",
    "            pdf_writer.write(new_pdf_file)\n",
    "\n",
    "# Example usage:\n",
    "new_metadata = {\n",
    "    '/Title': 'New Title',\n",
    "    '/Author': 'New Author',\n",
    "    '/Subject': 'New Subject',\n",
    "    # Add other metadata key-value pairs as needed\n",
    "}\n",
    "update_pdf_metadata(pdf_path1, new_metadata)"
   ]
  },
  {
   "cell_type": "code",
   "execution_count": 11,
   "id": "014448f2-cc4a-464f-b788-5d924190e18d",
   "metadata": {},
   "outputs": [
    {
     "name": "stdout",
     "output_type": "stream",
     "text": [
      "{'/Producer': 'PyPDF2', '/NeedAppearances': <PyPDF2.generic.BooleanObject object at 0x000001AFA345F500>, '/Title': 'New Title', '/Author': 'New Author', '/Subject': 'New Subject'}\n"
     ]
    }
   ],
   "source": [
    "metadata = read_pdf_metadata('new_pdf_with_metadata.pdf')\n",
    "print(metadata)"
   ]
  },
  {
   "cell_type": "code",
   "execution_count": null,
   "id": "c25fe800-3fee-4c0e-85cc-cf1e23d730bc",
   "metadata": {},
   "outputs": [],
   "source": []
  }
 ],
 "metadata": {
  "kernelspec": {
   "display_name": "Python 3 (ipykernel)",
   "language": "python",
   "name": "python3"
  },
  "language_info": {
   "codemirror_mode": {
    "name": "ipython",
    "version": 3
   },
   "file_extension": ".py",
   "mimetype": "text/x-python",
   "name": "python",
   "nbconvert_exporter": "python",
   "pygments_lexer": "ipython3",
   "version": "3.12.0"
  }
 },
 "nbformat": 4,
 "nbformat_minor": 5
}
