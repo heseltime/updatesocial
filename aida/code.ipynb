{
  "nbformat": 4,
  "nbformat_minor": 0,
  "metadata": {
    "colab": {
      "provenance": [],
      "machine_shape": "hm",
      "gpuType": "L4"
    },
    "kernelspec": {
      "name": "python3",
      "display_name": "Python 3"
    },
    "language_info": {
      "name": "python"
    },
    "accelerator": "GPU"
  },
  "cells": [
    {
      "cell_type": "code",
      "source": [
        "import pikepdf\n",
        "from pdfminer.high_level import extract_text\n",
        "import os\n",
        "\n",
        "def check_pdf_accessibility(file_path):\n",
        "    try:\n",
        "        pdf = pikepdf.open(file_path)\n",
        "        if not pdf.Root.get('/MarkInfo', {}).get('/Marked', False):\n",
        "            raise Exception(\"PDF is not tagged\")\n",
        "        if not pdf.Root.get('/StructTreeRoot'):\n",
        "            raise Exception(\"PDF does not have a logical reading order defined\")\n",
        "        for page in pdf.pages:\n",
        "            for content in page.Contents:\n",
        "                if isinstance(content, pikepdf.Stream):\n",
        "                    for op, operands in content.items():\n",
        "                        if op == b'/Image':\n",
        "                            if not operands.get('/Alt'):\n",
        "                                raise Exception(\"Image without alternate text found\")\n",
        "        text = extract_text(file_path)\n",
        "        print(\"PDF passed basic accessibility checks.\")\n",
        "    except Exception as e:\n",
        "        print(f\"PDF failed accessibility check: {e}\")\n",
        "\n",
        "# Example usage:\n",
        "file_path = \"YOUR PDF FILE.pdf\"\n",
        "check_pdf_accessibility(file_path)\n"
      ],
      "metadata": {
        "colab": {
          "base_uri": "https://localhost:8080/"
        },
        "id": "utFLA32MwC2q",
        "outputId": "f36bfca9-4ceb-4447-ef1d-41f50de0ee68"
      },
      "execution_count": null,
      "outputs": [
        {
          "output_type": "stream",
          "name": "stdout",
          "text": [
            "PDF failed accessibility check: PDF is not tagged\n"
          ]
        }
      ]
    }
  ]
}